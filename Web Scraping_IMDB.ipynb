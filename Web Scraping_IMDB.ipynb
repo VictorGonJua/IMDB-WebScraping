{
 "cells": [
  {
   "cell_type": "markdown",
   "id": "98927d03",
   "metadata": {},
   "source": [
    "# Data Programming Project: Defining top historical movie directors and years with best movies"
   ]
  },
  {
   "cell_type": "markdown",
   "id": "341ec7a8",
   "metadata": {},
   "source": [
    "## 1. Research description"
   ]
  },
  {
   "cell_type": "markdown",
   "id": "9bb2bd0a",
   "metadata": {},
   "source": [
    "The purpose of this project is to detect the best movies directors in history and the years in which the best movies have been produced.\n",
    "\n",
    "More precisely, we will find out which are the top 10 directors with highest average rating in IMDB and the 10 years with highest average rating historically.\n",
    "\n",
    "To do so, we will execute web scrapping from \"IMDB website. In particular we will retrieve the top 250 movies from IMDB international ranking.\n",
    "\n",
    "To do so, we will utilize the following libraries in Jupyter Notebook:\n",
    "\n",
    " - Pandas: to create a dataframe\n",
    " - Requests: to send the request to the URL\n",
    " - BeautifulSoup: to get the content in the form of HTML\n",
    " - Nunpy: to compute algebra calculations"
   ]
  },
  {
   "cell_type": "markdown",
   "id": "38c90701",
   "metadata": {},
   "source": [
    "## 2. Web scraping steps"
   ]
  },
  {
   "cell_type": "markdown",
   "id": "ab695082",
   "metadata": {},
   "source": [
    "In this section, the web scraping code is displayed and structured into the key steps."
   ]
  },
  {
   "cell_type": "markdown",
   "id": "90bb7b64",
   "metadata": {},
   "source": [
    "### a. Import the necessary libraries for the project:"
   ]
  },
  {
   "cell_type": "code",
   "execution_count": 142,
   "id": "f3cbf2f1",
   "metadata": {},
   "outputs": [],
   "source": [
    "import pandas as pd   #pandas will be used to create dataframe\n",
    "import requests       #requests will be used to send the request to the URL\n",
    "from bs4 import BeautifulSoup #BeautifulSoup will be used to get the content in the form of HTML\n",
    "import numpy as np  # nunpy will be used to compute algebra calculations"
   ]
  },
  {
   "cell_type": "markdown",
   "id": "2fd26e66",
   "metadata": {},
   "source": [
    "### b. Define the URL to be used by the libraries 'requests' and 'BautifulSoup':"
   ]
  },
  {
   "cell_type": "code",
   "execution_count": 143,
   "id": "3f72e2b7",
   "metadata": {},
   "outputs": [],
   "source": [
    "url = 'https://www.imdb.com/search/title/?count=250&groups=top_1000&sort=user_rating'\n",
    "response = requests.get(url)\n",
    "soup = BeautifulSoup(response.content, 'html.parser')"
   ]
  },
  {
   "cell_type": "markdown",
   "id": "b00a93db",
   "metadata": {},
   "source": [
    "### c. Create the empty lists which will be used to append the retrieved values"
   ]
  },
  {
   "cell_type": "code",
   "execution_count": 144,
   "id": "c63a2037",
   "metadata": {},
   "outputs": [],
   "source": [
    "movie_name = []\n",
    "year = []\n",
    "time = []\n",
    "rating = []\n",
    "metascore = []\n",
    "votes = []\n",
    "gross = []\n",
    "description = []\n",
    "Director = []\n",
    "Stars = []"
   ]
  },
  {
   "cell_type": "markdown",
   "id": "7b603f5a",
   "metadata": {},
   "source": [
    "### d. Store meaningfull data"
   ]
  },
  {
   "cell_type": "code",
   "execution_count": 145,
   "id": "2ba9d410",
   "metadata": {},
   "outputs": [],
   "source": [
    "movie_data = soup.findAll('div', attrs= {'class': 'lister-item mode-advanced'})"
   ]
  },
  {
   "cell_type": "markdown",
   "id": "4582c971",
   "metadata": {},
   "source": [
    "### e. For loop calling data one by one"
   ]
  },
  {
   "cell_type": "code",
   "execution_count": 146,
   "id": "26a205d7",
   "metadata": {},
   "outputs": [],
   "source": [
    "for store in movie_data:\n",
    "    name = store.h3.a.text\n",
    "    movie_name.append(name)\n",
    "    \n",
    "    year_of_release = store.h3.find('span', class_ = 'lister-item-year text-muted unbold').text.replace('(', '').replace(')', '')\n",
    "    year.append(year_of_release)\n",
    "    \n",
    "    runtime = store.p.find('span', class_ = 'runtime').text.replace(' min', '')\n",
    "    time.append(runtime)\n",
    "    \n",
    "    rate = store.find('div', class_ = 'inline-block ratings-imdb-rating').text.replace('\\n', '')\n",
    "    rating.append(rate)\n",
    "    \n",
    "    meta  = store.find('span', class_ = 'metascore').text.replace(' ', '') if store.find('span', class_ = 'metascore') else '^^^^^^'\n",
    "    metascore.append(meta)\n",
    "    #since, gross and votes have same attributes, that's why I had created a common variable and then used indexing\n",
    "    value = store.find_all('span', attrs = {'name': 'nv'})\n",
    "    \n",
    "    vote = value[0].text\n",
    "    votes.append(vote)\n",
    "    \n",
    "    grosses = value[1].text if len(value) >1 else '*****'\n",
    "    gross.append(grosses)\n",
    "    \n",
    "    # Description of the Movies\n",
    "    describe = store.find_all('p', class_ = 'text-muted')\n",
    "    description_ = describe[1].text.replace('\\n', '') if len(describe) >1 else '*****'\n",
    "    description.append(description_)\n",
    "    \n",
    "    #Cast Details \n",
    "    cast = store.find(\"p\", class_ = '')\n",
    "    cast = cast.text.replace('\\n', '').split('|')\n",
    "    cast = [x.strip() for x in cast]\n",
    "    cast = [cast[i].replace(j, \"\") for i,j in enumerate([\"Director:\", \"Stars:\"])]\n",
    "    Director.append(cast[0])\n",
    "    Stars.append([x.strip() for x in cast[1].split(\",\")])"
   ]
  },
  {
   "cell_type": "markdown",
   "id": "02cc46db",
   "metadata": {},
   "source": [
    "### f. Creation of dataframe"
   ]
  },
  {
   "cell_type": "code",
   "execution_count": 147,
   "id": "e0114b69",
   "metadata": {},
   "outputs": [],
   "source": [
    "movie_DF = pd.DataFrame({'Name of movie': movie_name, 'Year of release': year, 'Watchtime': time, 'Movie Rating': rating, 'Metascore': metascore, 'Votes': votes, 'Gross collection': gross, 'Description': description, \"Director\": Director, 'Star': Stars})"
   ]
  },
  {
   "cell_type": "markdown",
   "id": "2da0ca35",
   "metadata": {},
   "source": [
    "### g. Definition of data types within dataframe"
   ]
  },
  {
   "cell_type": "code",
   "execution_count": 148,
   "id": "517e6104",
   "metadata": {},
   "outputs": [],
   "source": [
    "movie_DF['Year of release'] = pd.to_numeric(movie_DF['Year of release'], errors='coerce')\n",
    "movie_DF['Watchtime'] = pd.to_numeric(movie_DF['Watchtime'], errors='coerce')\n",
    "movie_DF['Movie Rating'] = pd.to_numeric(movie_DF['Movie Rating'], errors='coerce')\n",
    "movie_DF['Metascore'] = pd.to_numeric(movie_DF['Metascore'], errors='coerce')"
   ]
  },
  {
   "cell_type": "markdown",
   "id": "bf15b811",
   "metadata": {},
   "source": [
    "# 3. Check and review of dataset"
   ]
  },
  {
   "cell_type": "markdown",
   "id": "8f246f2c",
   "metadata": {},
   "source": [
    "Once we have retrieved the data, we proceed to analyze the content and quality of the extraction. This key is essential to make sure that the later analysis will be relevant."
   ]
  },
  {
   "cell_type": "markdown",
   "id": "6d73c826",
   "metadata": {},
   "source": [
    "First, the table below summarized the columns retrieved and the data type defined. In total there are a total of 10 columns, out of which 6 are set as object type and 4 as float number type."
   ]
  },
  {
   "cell_type": "code",
   "execution_count": 149,
   "id": "eececcfc",
   "metadata": {},
   "outputs": [
    {
     "name": "stdout",
     "output_type": "stream",
     "text": [
      "<class 'pandas.core.frame.DataFrame'>\n",
      "RangeIndex: 250 entries, 0 to 249\n",
      "Data columns (total 10 columns):\n",
      " #   Column            Non-Null Count  Dtype  \n",
      "---  ------            --------------  -----  \n",
      " 0   Name of movie     250 non-null    object \n",
      " 1   Year of release   241 non-null    float64\n",
      " 2   Watchtime         250 non-null    int64  \n",
      " 3   Movie Rating      250 non-null    float64\n",
      " 4   Metascore         194 non-null    float64\n",
      " 5   Votes             250 non-null    object \n",
      " 6   Gross collection  250 non-null    object \n",
      " 7   Description       250 non-null    object \n",
      " 8   Director          250 non-null    object \n",
      " 9   Star              250 non-null    object \n",
      "dtypes: float64(3), int64(1), object(6)\n",
      "memory usage: 19.7+ KB\n",
      "None\n"
     ]
    }
   ],
   "source": [
    "print(movie_DF.info())"
   ]
  },
  {
   "cell_type": "markdown",
   "id": "a7f31366",
   "metadata": {},
   "source": [
    "Second, we extract the top 10 rows of the table. We see that all columns have been properly filled."
   ]
  },
  {
   "cell_type": "code",
   "execution_count": 153,
   "id": "21af6150",
   "metadata": {},
   "outputs": [
    {
     "data": {
      "text/html": [
       "<div>\n",
       "<style scoped>\n",
       "    .dataframe tbody tr th:only-of-type {\n",
       "        vertical-align: middle;\n",
       "    }\n",
       "\n",
       "    .dataframe tbody tr th {\n",
       "        vertical-align: top;\n",
       "    }\n",
       "\n",
       "    .dataframe thead th {\n",
       "        text-align: right;\n",
       "    }\n",
       "</style>\n",
       "<table border=\"1\" class=\"dataframe\">\n",
       "  <thead>\n",
       "    <tr style=\"text-align: right;\">\n",
       "      <th></th>\n",
       "      <th>Name of movie</th>\n",
       "      <th>Year of release</th>\n",
       "      <th>Watchtime</th>\n",
       "      <th>Movie Rating</th>\n",
       "      <th>Metascore</th>\n",
       "      <th>Votes</th>\n",
       "      <th>Gross collection</th>\n",
       "      <th>Description</th>\n",
       "      <th>Director</th>\n",
       "      <th>Star</th>\n",
       "    </tr>\n",
       "  </thead>\n",
       "  <tbody>\n",
       "    <tr>\n",
       "      <th>0</th>\n",
       "      <td>Cadena perpetua</td>\n",
       "      <td>1994.0</td>\n",
       "      <td>142</td>\n",
       "      <td>9.3</td>\n",
       "      <td>81.0</td>\n",
       "      <td>2,602,128</td>\n",
       "      <td>$28.34M</td>\n",
       "      <td>Two imprisoned men bond over a number of years...</td>\n",
       "      <td>Frank Darabont</td>\n",
       "      <td>[Tim Robbins, Morgan Freeman, Bob Gunton, Will...</td>\n",
       "    </tr>\n",
       "    <tr>\n",
       "      <th>1</th>\n",
       "      <td>El padrino</td>\n",
       "      <td>1972.0</td>\n",
       "      <td>175</td>\n",
       "      <td>9.2</td>\n",
       "      <td>100.0</td>\n",
       "      <td>1,797,586</td>\n",
       "      <td>$134.97M</td>\n",
       "      <td>The aging patriarch of an organized crime dyna...</td>\n",
       "      <td>Francis Ford Coppola</td>\n",
       "      <td>[Marlon Brando, Al Pacino, James Caan, Diane K...</td>\n",
       "    </tr>\n",
       "    <tr>\n",
       "      <th>2</th>\n",
       "      <td>El caballero oscuro</td>\n",
       "      <td>2008.0</td>\n",
       "      <td>152</td>\n",
       "      <td>9.0</td>\n",
       "      <td>84.0</td>\n",
       "      <td>2,573,559</td>\n",
       "      <td>$534.86M</td>\n",
       "      <td>When the menace known as the Joker wreaks havo...</td>\n",
       "      <td>Christopher Nolan</td>\n",
       "      <td>[Christian Bale, Heath Ledger, Aaron Eckhart, ...</td>\n",
       "    </tr>\n",
       "    <tr>\n",
       "      <th>3</th>\n",
       "      <td>El señor de los anillos: El retorno del rey</td>\n",
       "      <td>2003.0</td>\n",
       "      <td>201</td>\n",
       "      <td>9.0</td>\n",
       "      <td>94.0</td>\n",
       "      <td>1,787,008</td>\n",
       "      <td>$377.85M</td>\n",
       "      <td>Gandalf and Aragorn lead the World of Men agai...</td>\n",
       "      <td>Peter Jackson</td>\n",
       "      <td>[Elijah Wood, Viggo Mortensen, Ian McKellen, O...</td>\n",
       "    </tr>\n",
       "    <tr>\n",
       "      <th>4</th>\n",
       "      <td>La lista de Schindler</td>\n",
       "      <td>1993.0</td>\n",
       "      <td>195</td>\n",
       "      <td>9.0</td>\n",
       "      <td>94.0</td>\n",
       "      <td>1,323,259</td>\n",
       "      <td>$96.90M</td>\n",
       "      <td>In German-occupied Poland during World War II,...</td>\n",
       "      <td>Steven Spielberg</td>\n",
       "      <td>[Liam Neeson, Ralph Fiennes, Ben Kingsley, Car...</td>\n",
       "    </tr>\n",
       "    <tr>\n",
       "      <th>5</th>\n",
       "      <td>El padrino: Parte II</td>\n",
       "      <td>1974.0</td>\n",
       "      <td>202</td>\n",
       "      <td>9.0</td>\n",
       "      <td>90.0</td>\n",
       "      <td>1,238,425</td>\n",
       "      <td>$57.30M</td>\n",
       "      <td>The early life and career of Vito Corleone in ...</td>\n",
       "      <td>Francis Ford Coppola</td>\n",
       "      <td>[Al Pacino, Robert De Niro, Robert Duvall, Dia...</td>\n",
       "    </tr>\n",
       "    <tr>\n",
       "      <th>6</th>\n",
       "      <td>12 hombres sin piedad</td>\n",
       "      <td>1957.0</td>\n",
       "      <td>96</td>\n",
       "      <td>9.0</td>\n",
       "      <td>96.0</td>\n",
       "      <td>768,761</td>\n",
       "      <td>$4.36M</td>\n",
       "      <td>The jury in a New York City murder trial is fr...</td>\n",
       "      <td>Sidney Lumet</td>\n",
       "      <td>[Henry Fonda, Lee J. Cobb, Martin Balsam, John...</td>\n",
       "    </tr>\n",
       "    <tr>\n",
       "      <th>7</th>\n",
       "      <td>Jai Bhim</td>\n",
       "      <td>2021.0</td>\n",
       "      <td>164</td>\n",
       "      <td>8.9</td>\n",
       "      <td>NaN</td>\n",
       "      <td>191,152</td>\n",
       "      <td>#246</td>\n",
       "      <td>When a tribal man is arrested for a case of al...</td>\n",
       "      <td>T.J. Gnanavel</td>\n",
       "      <td>[Suriya, Lijo Mol Jose, Manikandan K., Rajisha...</td>\n",
       "    </tr>\n",
       "    <tr>\n",
       "      <th>8</th>\n",
       "      <td>Pulp Fiction</td>\n",
       "      <td>1994.0</td>\n",
       "      <td>154</td>\n",
       "      <td>8.9</td>\n",
       "      <td>94.0</td>\n",
       "      <td>1,994,582</td>\n",
       "      <td>$107.93M</td>\n",
       "      <td>The lives of two mob hitmen, a boxer, a gangst...</td>\n",
       "      <td>Quentin Tarantino</td>\n",
       "      <td>[John Travolta, Uma Thurman, Samuel L. Jackson...</td>\n",
       "    </tr>\n",
       "    <tr>\n",
       "      <th>9</th>\n",
       "      <td>Origen</td>\n",
       "      <td>2010.0</td>\n",
       "      <td>148</td>\n",
       "      <td>8.8</td>\n",
       "      <td>74.0</td>\n",
       "      <td>2,283,229</td>\n",
       "      <td>$292.58M</td>\n",
       "      <td>A thief who steals corporate secrets through t...</td>\n",
       "      <td>Christopher Nolan</td>\n",
       "      <td>[Leonardo DiCaprio, Joseph Gordon-Levitt, Elli...</td>\n",
       "    </tr>\n",
       "  </tbody>\n",
       "</table>\n",
       "</div>"
      ],
      "text/plain": [
       "                                 Name of movie  Year of release  Watchtime  \\\n",
       "0                              Cadena perpetua           1994.0        142   \n",
       "1                                   El padrino           1972.0        175   \n",
       "2                          El caballero oscuro           2008.0        152   \n",
       "3  El señor de los anillos: El retorno del rey           2003.0        201   \n",
       "4                        La lista de Schindler           1993.0        195   \n",
       "5                         El padrino: Parte II           1974.0        202   \n",
       "6                        12 hombres sin piedad           1957.0         96   \n",
       "7                                     Jai Bhim           2021.0        164   \n",
       "8                                 Pulp Fiction           1994.0        154   \n",
       "9                                       Origen           2010.0        148   \n",
       "\n",
       "   Movie Rating  Metascore      Votes Gross collection  \\\n",
       "0           9.3       81.0  2,602,128          $28.34M   \n",
       "1           9.2      100.0  1,797,586         $134.97M   \n",
       "2           9.0       84.0  2,573,559         $534.86M   \n",
       "3           9.0       94.0  1,787,008         $377.85M   \n",
       "4           9.0       94.0  1,323,259          $96.90M   \n",
       "5           9.0       90.0  1,238,425          $57.30M   \n",
       "6           9.0       96.0    768,761           $4.36M   \n",
       "7           8.9        NaN    191,152             #246   \n",
       "8           8.9       94.0  1,994,582         $107.93M   \n",
       "9           8.8       74.0  2,283,229         $292.58M   \n",
       "\n",
       "                                         Description              Director  \\\n",
       "0  Two imprisoned men bond over a number of years...        Frank Darabont   \n",
       "1  The aging patriarch of an organized crime dyna...  Francis Ford Coppola   \n",
       "2  When the menace known as the Joker wreaks havo...     Christopher Nolan   \n",
       "3  Gandalf and Aragorn lead the World of Men agai...         Peter Jackson   \n",
       "4  In German-occupied Poland during World War II,...      Steven Spielberg   \n",
       "5  The early life and career of Vito Corleone in ...  Francis Ford Coppola   \n",
       "6  The jury in a New York City murder trial is fr...          Sidney Lumet   \n",
       "7  When a tribal man is arrested for a case of al...         T.J. Gnanavel   \n",
       "8  The lives of two mob hitmen, a boxer, a gangst...     Quentin Tarantino   \n",
       "9  A thief who steals corporate secrets through t...     Christopher Nolan   \n",
       "\n",
       "                                                Star  \n",
       "0  [Tim Robbins, Morgan Freeman, Bob Gunton, Will...  \n",
       "1  [Marlon Brando, Al Pacino, James Caan, Diane K...  \n",
       "2  [Christian Bale, Heath Ledger, Aaron Eckhart, ...  \n",
       "3  [Elijah Wood, Viggo Mortensen, Ian McKellen, O...  \n",
       "4  [Liam Neeson, Ralph Fiennes, Ben Kingsley, Car...  \n",
       "5  [Al Pacino, Robert De Niro, Robert Duvall, Dia...  \n",
       "6  [Henry Fonda, Lee J. Cobb, Martin Balsam, John...  \n",
       "7  [Suriya, Lijo Mol Jose, Manikandan K., Rajisha...  \n",
       "8  [John Travolta, Uma Thurman, Samuel L. Jackson...  \n",
       "9  [Leonardo DiCaprio, Joseph Gordon-Levitt, Elli...  "
      ]
     },
     "execution_count": 153,
     "metadata": {},
     "output_type": "execute_result"
    }
   ],
   "source": [
    "movie_DF.head(10)"
   ]
  },
  {
   "cell_type": "markdown",
   "id": "1d7f1876",
   "metadata": {},
   "source": [
    "Third, we do a basic statistical description of columns with value type:\n",
    " - Movies were produced between 1921 and 2022.\n",
    " - Average Watchtime per movie is 133.6 minutes, with a max of 321 minutes and a min of 45 minutes.\n",
    " - Average IMDB movie rating is 8.3 while the rating of the best movie considered is 9.3 and the worst one is 8.1.\n",
    " - Average Metascore movie rating is 82.1 while the rating of the best movie considered is 100 and the worst one is 55."
   ]
  },
  {
   "cell_type": "code",
   "execution_count": 151,
   "id": "d8f52a3b",
   "metadata": {},
   "outputs": [
    {
     "data": {
      "text/html": [
       "<div>\n",
       "<style scoped>\n",
       "    .dataframe tbody tr th:only-of-type {\n",
       "        vertical-align: middle;\n",
       "    }\n",
       "\n",
       "    .dataframe tbody tr th {\n",
       "        vertical-align: top;\n",
       "    }\n",
       "\n",
       "    .dataframe thead th {\n",
       "        text-align: right;\n",
       "    }\n",
       "</style>\n",
       "<table border=\"1\" class=\"dataframe\">\n",
       "  <thead>\n",
       "    <tr style=\"text-align: right;\">\n",
       "      <th></th>\n",
       "      <th>Year of release</th>\n",
       "      <th>Watchtime</th>\n",
       "      <th>Movie Rating</th>\n",
       "      <th>Metascore</th>\n",
       "    </tr>\n",
       "  </thead>\n",
       "  <tbody>\n",
       "    <tr>\n",
       "      <th>count</th>\n",
       "      <td>241.0</td>\n",
       "      <td>250.0</td>\n",
       "      <td>250.0</td>\n",
       "      <td>194.0</td>\n",
       "    </tr>\n",
       "    <tr>\n",
       "      <th>mean</th>\n",
       "      <td>1992.3</td>\n",
       "      <td>133.6</td>\n",
       "      <td>8.3</td>\n",
       "      <td>82.1</td>\n",
       "    </tr>\n",
       "    <tr>\n",
       "      <th>std</th>\n",
       "      <td>25.6</td>\n",
       "      <td>30.9</td>\n",
       "      <td>0.2</td>\n",
       "      <td>11.4</td>\n",
       "    </tr>\n",
       "    <tr>\n",
       "      <th>min</th>\n",
       "      <td>1921.0</td>\n",
       "      <td>45.0</td>\n",
       "      <td>8.1</td>\n",
       "      <td>55.0</td>\n",
       "    </tr>\n",
       "    <tr>\n",
       "      <th>25%</th>\n",
       "      <td>1976.0</td>\n",
       "      <td>115.0</td>\n",
       "      <td>8.2</td>\n",
       "      <td>74.0</td>\n",
       "    </tr>\n",
       "    <tr>\n",
       "      <th>50%</th>\n",
       "      <td>2001.0</td>\n",
       "      <td>130.0</td>\n",
       "      <td>8.3</td>\n",
       "      <td>84.0</td>\n",
       "    </tr>\n",
       "    <tr>\n",
       "      <th>75%</th>\n",
       "      <td>2012.0</td>\n",
       "      <td>151.0</td>\n",
       "      <td>8.4</td>\n",
       "      <td>91.0</td>\n",
       "    </tr>\n",
       "    <tr>\n",
       "      <th>max</th>\n",
       "      <td>2022.0</td>\n",
       "      <td>321.0</td>\n",
       "      <td>9.3</td>\n",
       "      <td>100.0</td>\n",
       "    </tr>\n",
       "  </tbody>\n",
       "</table>\n",
       "</div>"
      ],
      "text/plain": [
       "       Year of release  Watchtime  Movie Rating  Metascore\n",
       "count            241.0      250.0         250.0      194.0\n",
       "mean            1992.3      133.6           8.3       82.1\n",
       "std               25.6       30.9           0.2       11.4\n",
       "min             1921.0       45.0           8.1       55.0\n",
       "25%             1976.0      115.0           8.2       74.0\n",
       "50%             2001.0      130.0           8.3       84.0\n",
       "75%             2012.0      151.0           8.4       91.0\n",
       "max             2022.0      321.0           9.3      100.0"
      ]
     },
     "execution_count": 151,
     "metadata": {},
     "output_type": "execute_result"
    }
   ],
   "source": [
    "movie_DF.describe().round(1)"
   ]
  },
  {
   "cell_type": "markdown",
   "id": "0c5fb6e6",
   "metadata": {},
   "source": [
    "# 3. Analysis results"
   ]
  },
  {
   "cell_type": "markdown",
   "id": "d8f6f93b",
   "metadata": {},
   "source": [
    "In this section the main conclusions of the analysis performed are summarized."
   ]
  },
  {
   "cell_type": "markdown",
   "id": "1755f8e8",
   "metadata": {},
   "source": [
    "## a. Analysis on top directors"
   ]
  },
  {
   "cell_type": "markdown",
   "id": "2bbbd657",
   "metadata": {},
   "source": [
    "Considering all elements in the table, the top 10 directors sorted by average IMDB rating are the following ones:"
   ]
  },
  {
   "cell_type": "code",
   "execution_count": 178,
   "id": "becae39c",
   "metadata": {},
   "outputs": [
    {
     "data": {
      "text/html": [
       "<div>\n",
       "<style scoped>\n",
       "    .dataframe tbody tr th:only-of-type {\n",
       "        vertical-align: middle;\n",
       "    }\n",
       "\n",
       "    .dataframe tbody tr th {\n",
       "        vertical-align: top;\n",
       "    }\n",
       "\n",
       "    .dataframe thead th {\n",
       "        text-align: right;\n",
       "    }\n",
       "</style>\n",
       "<table border=\"1\" class=\"dataframe\">\n",
       "  <thead>\n",
       "    <tr style=\"text-align: right;\">\n",
       "      <th></th>\n",
       "      <th>Movie Rating</th>\n",
       "    </tr>\n",
       "    <tr>\n",
       "      <th>Director</th>\n",
       "      <th></th>\n",
       "    </tr>\n",
       "  </thead>\n",
       "  <tbody>\n",
       "    <tr>\n",
       "      <th>Sidney Lumet</th>\n",
       "      <td>9.0</td>\n",
       "    </tr>\n",
       "    <tr>\n",
       "      <th>Frank Darabont</th>\n",
       "      <td>9.0</td>\n",
       "    </tr>\n",
       "    <tr>\n",
       "      <th>Peter Jackson</th>\n",
       "      <td>8.9</td>\n",
       "    </tr>\n",
       "    <tr>\n",
       "      <th>Francis Ford Coppola</th>\n",
       "      <td>8.9</td>\n",
       "    </tr>\n",
       "    <tr>\n",
       "      <th>T.J. Gnanavel</th>\n",
       "      <td>8.9</td>\n",
       "    </tr>\n",
       "    <tr>\n",
       "      <th>Irvin Kershner</th>\n",
       "      <td>8.7</td>\n",
       "    </tr>\n",
       "    <tr>\n",
       "      <th>Directors:Lana Wachowski, Lilly Wachowski</th>\n",
       "      <td>8.7</td>\n",
       "    </tr>\n",
       "    <tr>\n",
       "      <th>Sudha Kongara</th>\n",
       "      <td>8.7</td>\n",
       "    </tr>\n",
       "    <tr>\n",
       "      <th>Frank Capra</th>\n",
       "      <td>8.6</td>\n",
       "    </tr>\n",
       "    <tr>\n",
       "      <th>George Lucas</th>\n",
       "      <td>8.6</td>\n",
       "    </tr>\n",
       "  </tbody>\n",
       "</table>\n",
       "</div>"
      ],
      "text/plain": [
       "                                           Movie Rating\n",
       "Director                                               \n",
       "Sidney Lumet                                        9.0\n",
       "Frank Darabont                                      9.0\n",
       "Peter Jackson                                       8.9\n",
       "Francis Ford Coppola                                8.9\n",
       "T.J. Gnanavel                                       8.9\n",
       "Irvin Kershner                                      8.7\n",
       "Directors:Lana Wachowski, Lilly Wachowski           8.7\n",
       "Sudha Kongara                                       8.7\n",
       "Frank Capra                                         8.6\n",
       "George Lucas                                        8.6"
      ]
     },
     "execution_count": 178,
     "metadata": {},
     "output_type": "execute_result"
    }
   ],
   "source": [
    "movie_DF.groupby('Director')[['Movie Rating']].mean().round(1).sort_values(by='Movie Rating',ascending=0).head(10)"
   ]
  },
  {
   "cell_type": "markdown",
   "id": "efc939e8",
   "metadata": {},
   "source": [
    "## b. Analysis on years with highest average rating"
   ]
  },
  {
   "cell_type": "markdown",
   "id": "54ffd9ba",
   "metadata": {},
   "source": [
    "Considering all elements in the table, the top 10 years sorted by average IMDB rating are the following ones:"
   ]
  },
  {
   "cell_type": "code",
   "execution_count": 179,
   "id": "77b2e386",
   "metadata": {},
   "outputs": [
    {
     "data": {
      "text/html": [
       "<div>\n",
       "<style scoped>\n",
       "    .dataframe tbody tr th:only-of-type {\n",
       "        vertical-align: middle;\n",
       "    }\n",
       "\n",
       "    .dataframe tbody tr th {\n",
       "        vertical-align: top;\n",
       "    }\n",
       "\n",
       "    .dataframe thead th {\n",
       "        text-align: right;\n",
       "    }\n",
       "</style>\n",
       "<table border=\"1\" class=\"dataframe\">\n",
       "  <thead>\n",
       "    <tr style=\"text-align: right;\">\n",
       "      <th></th>\n",
       "      <th>Movie Rating</th>\n",
       "    </tr>\n",
       "    <tr>\n",
       "      <th>Year of release</th>\n",
       "      <th></th>\n",
       "    </tr>\n",
       "  </thead>\n",
       "  <tbody>\n",
       "    <tr>\n",
       "      <th>1972.0</th>\n",
       "      <td>9.2</td>\n",
       "    </tr>\n",
       "    <tr>\n",
       "      <th>1994.0</th>\n",
       "      <td>8.8</td>\n",
       "    </tr>\n",
       "    <tr>\n",
       "      <th>1966.0</th>\n",
       "      <td>8.8</td>\n",
       "    </tr>\n",
       "    <tr>\n",
       "      <th>1990.0</th>\n",
       "      <td>8.7</td>\n",
       "    </tr>\n",
       "    <tr>\n",
       "      <th>1946.0</th>\n",
       "      <td>8.6</td>\n",
       "    </tr>\n",
       "    <tr>\n",
       "      <th>1991.0</th>\n",
       "      <td>8.6</td>\n",
       "    </tr>\n",
       "    <tr>\n",
       "      <th>1993.0</th>\n",
       "      <td>8.6</td>\n",
       "    </tr>\n",
       "    <tr>\n",
       "      <th>1977.0</th>\n",
       "      <td>8.6</td>\n",
       "    </tr>\n",
       "    <tr>\n",
       "      <th>2002.0</th>\n",
       "      <td>8.6</td>\n",
       "    </tr>\n",
       "    <tr>\n",
       "      <th>1974.0</th>\n",
       "      <td>8.6</td>\n",
       "    </tr>\n",
       "  </tbody>\n",
       "</table>\n",
       "</div>"
      ],
      "text/plain": [
       "                 Movie Rating\n",
       "Year of release              \n",
       "1972.0                    9.2\n",
       "1994.0                    8.8\n",
       "1966.0                    8.8\n",
       "1990.0                    8.7\n",
       "1946.0                    8.6\n",
       "1991.0                    8.6\n",
       "1993.0                    8.6\n",
       "1977.0                    8.6\n",
       "2002.0                    8.6\n",
       "1974.0                    8.6"
      ]
     },
     "execution_count": 179,
     "metadata": {},
     "output_type": "execute_result"
    }
   ],
   "source": [
    "movie_DF.groupby('Year of release')[['Movie Rating']].mean().round(1).sort_values(by='Movie Rating',ascending=0).head(10)"
   ]
  },
  {
   "cell_type": "markdown",
   "id": "1429eb78",
   "metadata": {},
   "source": [
    "## c. Visual representation of ratings evolution per year"
   ]
  },
  {
   "cell_type": "markdown",
   "id": "77ebc8e9",
   "metadata": {},
   "source": [
    "In the visual below it is included the IMDB rating of the movies produced by year. We see that based on IMDB ratings, movie's quality has remained quite stable along time and we can se clear outlayers in 1994 and 1972 which are the two top rated movies.\n",
    "\n",
    "Also, we can see that the number of movies produced has increased along the years but, in the last decade, we observe the movies with the worst rating within the ranking."
   ]
  },
  {
   "cell_type": "code",
   "execution_count": 116,
   "id": "19ef6fb4",
   "metadata": {},
   "outputs": [
    {
     "data": {
      "text/plain": [
       "<AxesSubplot:xlabel='Year of release', ylabel='Movie Rating'>"
      ]
     },
     "execution_count": 116,
     "metadata": {},
     "output_type": "execute_result"
    },
    {
     "data": {
      "image/png": "[encoded data removed]",
      "text/plain": [
       "<Figure size 432x288 with 1 Axes>"
      ]
     },
     "metadata": {
      "image/png": {
       "height": 261,
       "width": 385
      },
      "needs_background": "light"
     },
     "output_type": "display_data"
    }
   ],
   "source": [
    "movie_DF.plot(kind='scatter',x='Year of release',y='Movie Rating')"
   ]
  },
  {
   "cell_type": "markdown",
   "id": "bd3d4bd4",
   "metadata": {},
   "source": [
    "In the visual below it is included the Metascore rating of the movies produced by year. \n",
    "\n",
    "In this case we observe that the two trends previously mentioned, more movies in the last years but many of them with worse rating, is even more sharp than in the case of IMDB rating."
   ]
  },
  {
   "cell_type": "code",
   "execution_count": 183,
   "id": "c2b4fdb4",
   "metadata": {},
   "outputs": [
    {
     "data": {
      "text/plain": [
       "<AxesSubplot:xlabel='Year of release', ylabel='Metascore'>"
      ]
     },
     "execution_count": 183,
     "metadata": {},
     "output_type": "execute_result"
    },
    {
     "data": {
      "image/png": "[encoded data removed]",
      "text/plain": [
       "<Figure size 432x288 with 1 Axes>"
      ]
     },
     "metadata": {
      "image/png": {
       "height": 261,
       "width": 388
      },
      "needs_background": "light"
     },
     "output_type": "display_data"
    }
   ],
   "source": [
    "movie_DF.plot(kind='scatter',x='Year of release',y='Metascore')"
   ]
  },
  {
   "cell_type": "markdown",
   "id": "e784d130",
   "metadata": {},
   "source": [
    "# 4. Ethical considerations"
   ]
  },
  {
   "cell_type": "markdown",
   "id": "d27b7f59",
   "metadata": {},
   "source": [
    "In this project we have web scraped information from IMDB website. Considering IMDB Conditions of Use, the following is mentioned:\n",
    "\n",
    "\"Robots and Screen Scraping: You may not use data mining, robots, screen scraping, or similar data gathering and extraction tools on this site, except with our express written consent as noted below.\"\n",
    "\n",
    "Due to time limitation, I could not get explicit written consent from IMDB. Nevetheless, I have also considered the following:\n",
    "\n",
    " - The execution of the code does not generate a significant impact for IMDB servers.\n",
    " - The data used is limited to the subsets of information that IMDB provides to users for personal use as plain text extractions.\n",
    " \n",
    " \n",
    " Therefore, regardless written consent is not available, the usage of the information in the scope of the project is ethically and technically correct.\n",
    "\n"
   ]
  },
  {
   "cell_type": "code",
   "execution_count": null,
   "id": "dc89a359",
   "metadata": {},
   "outputs": [],
   "source": []
  }
 ],
 "metadata": {
  "kernelspec": {
   "display_name": "Python 3 (ipykernel)",
   "language": "python",
   "name": "python3"
  },
  "language_info": {
   "codemirror_mode": {
    "name": "ipython",
    "version": 3
   },
   "file_extension": ".py",
   "mimetype": "text/x-python",
   "name": "python",
   "nbconvert_exporter": "python",
   "pygments_lexer": "ipython3",
   "version": "3.9.7"
  }
 },
 "nbformat": 4,
 "nbformat_minor": 5
}
